{
 "cells": [
  {
   "cell_type": "code",
   "execution_count": null,
   "metadata": {},
   "outputs": [],
   "source": [
    "from IPython.core.display import display, HTML\n",
    "display(HTML(\"<style>.container { width:80% !important; }</style>\"))"
   ]
  },
  {
   "cell_type": "code",
   "execution_count": null,
   "metadata": {},
   "outputs": [],
   "source": [
    "from pathlib import Path\n",
    "import sys\n",
    "sys.path.insert(0, \"..\")\n",
    "\n",
    "import cv2\n",
    "import dlib\n",
    "import numpy as np\n",
    "from tqdm import tqdm\n",
    "\n",
    "from data import plot, Process300VW\n",
    "from demo import extract\n",
    "from utils import constants, data_utils, personal_constants"
   ]
  },
  {
   "cell_type": "code",
   "execution_count": null,
   "metadata": {},
   "outputs": [],
   "source": [
    "input_path = Path('/home/klaus/dev/5_master/5204PRAI6Y-project-ai/data/local_data/stijn')\n",
    "temp_path = input_path / 'temp'\n",
    "output_path = input_path / f'processed_dim{constants.DATASET_300VW_IMSIZE}'\n",
    "FPS = 30"
   ]
  },
  {
   "cell_type": "code",
   "execution_count": null,
   "metadata": {},
   "outputs": [],
   "source": [
    "if not temp_path.exists():\n",
    "    temp_path.mkdir(parents=True, exist_ok=True)\n",
    "    video_path = input_path / 'video.webm'\n",
    "    video = cv2.VideoCapture(str(video_path))\n",
    "    counter = 1\n",
    "    success, image = video.read()\n",
    "    while success == 1:\n",
    "        frame_output_path = temp_path / f'{counter:06d}.jpg'\n",
    "        cv2.imwrite(str(frame_output_path), image, [int(cv2.IMWRITE_JPEG_QUALITY), constants.DATASET_300VW_IMAGE_QUALITY])\n",
    "        counter += 1\n",
    "        success, image = video.read()"
   ]
  },
  {
   "cell_type": "code",
   "execution_count": null,
   "metadata": {},
   "outputs": [],
   "source": [
    "detector = dlib.get_frontal_face_detector()\n",
    "predictor = dlib.shape_predictor('./local_data/shape_predictor_68_face_landmarks.dat')"
   ]
  },
  {
   "cell_type": "code",
   "execution_count": null,
   "metadata": {},
   "outputs": [],
   "source": [
    "n_frames = len(list(temp_path.glob('*.jpg')))\n",
    "print(n_frames)"
   ]
  },
  {
   "cell_type": "code",
   "execution_count": null,
   "metadata": {},
   "outputs": [],
   "source": [
    "frame_output_dir = output_path / 'images'\n",
    "frame_output_dir.mkdir(parents=True, exist_ok=True)\n",
    "landmarks = np.empty(\n",
    "    (n_frames, constants.DATASET_300VW_N_LANDMARKS, 2)\n",
    ")\n",
    "\n",
    "counter = 1\n",
    "for image_input_path in tqdm(sorted(list(temp_path.glob('*.jpg')))):\n",
    "    image = cv2.imread(str(image_input_path))\n",
    "    bounding_boxes = detector(image, 1)\n",
    "    dlib_landmarks = [\n",
    "        predictor(image, rectangle).parts() for rectangle in bounding_boxes\n",
    "    ]\n",
    "    if len(dlib_landmarks) != 1 or len(dlib_landmarks[0]) != constants.DATASET_300VW_N_LANDMARKS:\n",
    "        continue\n",
    "    image_landmarks = np.asarray([(lm.x, lm.y) for lm in dlib_landmarks[0]], dtype=float)\n",
    "    \n",
    "    image_box = data_utils.landmarks_to_box(image_landmarks, image.shape)\n",
    "    extracted_image = data_utils.extract(image, image_box)\n",
    "    extracted_landmarks = data_utils.offset_landmarks(image_landmarks, image_box)\n",
    "\n",
    "    output = Process300VW._rescale_image(extracted_image)\n",
    "    output_landmarks = data_utils.rescale_landmarks(\n",
    "        extracted_landmarks, extracted_image.shape, constants.DATASET_300VW_IMSIZE\n",
    "    )\n",
    "    \n",
    "    if counter == 1:\n",
    "        plot(image, image_landmarks, image_box)\n",
    "        plot(output, output_landmarks)\n",
    "    \n",
    "    frame_output_path = frame_output_dir / f'{counter:06d}.jpg'\n",
    "    cv2.imwrite(str(frame_output_path), output, [int(cv2.IMWRITE_JPEG_QUALITY), constants.DATASET_300VW_IMAGE_QUALITY])\n",
    "    counter += 1\n",
    "    \n",
    "    landmarks[counter-1] = output_landmarks\n",
    "    \n",
    "landmarks = landmarks[:counter]\n",
    "np.save(str(output_path / 'annotations.npy'), landmarks)"
   ]
  },
  {
   "cell_type": "code",
   "execution_count": null,
   "metadata": {},
   "outputs": [],
   "source": []
  },
  {
   "cell_type": "code",
   "execution_count": null,
   "metadata": {},
   "outputs": [],
   "source": []
  },
  {
   "cell_type": "code",
   "execution_count": null,
   "metadata": {},
   "outputs": [],
   "source": []
  }
 ],
 "metadata": {
  "kernelspec": {
   "display_name": "Python 3",
   "language": "python",
   "name": "python3"
  },
  "language_info": {
   "codemirror_mode": {
    "name": "ipython",
    "version": 3
   },
   "file_extension": ".py",
   "mimetype": "text/x-python",
   "name": "python",
   "nbconvert_exporter": "python",
   "pygments_lexer": "ipython3",
   "version": "3.6.8"
  }
 },
 "nbformat": 4,
 "nbformat_minor": 1
}
