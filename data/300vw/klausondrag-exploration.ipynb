{
 "cells": [
  {
   "cell_type": "code",
   "execution_count": null,
   "metadata": {},
   "outputs": [],
   "source": [
    "from IPython.core.display import display, HTML\n",
    "display(HTML(\"<style>.container { width:80% !important; }</style>\"))"
   ]
  },
  {
   "cell_type": "code",
   "execution_count": null,
   "metadata": {},
   "outputs": [],
   "source": [
    "from pathlib import Path\n",
    "from typing import Tuple\n",
    "\n",
    "import numpy as np\n",
    "from tqdm import tqdm_notebook as tqdm\n",
    "%pylab inline\n",
    "import matplotlib.pyplot as plt\n",
    "import matplotlib.image as mpimg\n",
    "from matplotlib import patches\n",
    "rcParams['figure.figsize'] = 10, 10"
   ]
  },
  {
   "cell_type": "code",
   "execution_count": null,
   "metadata": {},
   "outputs": [],
   "source": [
    "base_path = Path('/media/klaus/Ondrag/dev/datasets/300VW_Dataset_2015_12_14/')\n",
    "n_videos = 114\n",
    "n_points = 68\n",
    "padding = 0\n",
    "expand_ratio = 0.5"
   ]
  },
  {
   "cell_type": "code",
   "execution_count": null,
   "metadata": {},
   "outputs": [],
   "source": [
    "def plot(image, points: np.ndarray = None, box: Tuple[int, int, int, int] = None) -> None:\n",
    "    plt.figure()\n",
    "    plt.imshow(image)\n",
    "    plt.axis('off')\n",
    "\n",
    "    if points is not None:\n",
    "        plt.plot(points[:, 0], points[:, 1], 'gx')\n",
    "    \n",
    "    if box is not None:\n",
    "        x1, y1, x2, y2 = box\n",
    "        rect = patches.Rectangle((x1, y1), x2 - x1, y2 - y1, \n",
    "                                 linewidth=1, edgecolor='r', facecolor='none')\n",
    "        ax = plt.gca()\n",
    "        ax.add_patch(rect)\n",
    "    \n",
    "    plt.show()    \n",
    "\n",
    "\n",
    "def load_pts_file(file_path: Path) -> np.ndarray:\n",
    "    with open(str(file_path), 'r') as file:\n",
    "        lines = file.readlines()\n",
    "        \n",
    "    assert lines[0].strip().startswith('version: 1'), str(file_path)\n",
    "    assert lines[1] == f'n_points: {n_points}\\n', str(file_path)\n",
    "    \n",
    "    lines = [l.strip() for l in lines]\n",
    "    # remove\n",
    "    # version: 1\n",
    "    # n_points: 68\n",
    "    # {\n",
    "    lines = lines[3:]\n",
    "    # remove\n",
    "    # }\n",
    "    lines = lines[:-1]\n",
    "    points = [[float(x) for x in p.split()]\n",
    "              for p in lines]\n",
    "    points = np.asarray(points)\n",
    "    assert points.shape == (n_points, 2)\n",
    "    return points\n",
    "\n",
    "\n",
    "def points_to_box(points: np.ndarray, image_size: Tuple[int, int]) -> Tuple[float, float, float, float]:\n",
    "    x1, y1, x2, y2 = [points[:, 0].min(), points[:, 1].min(), points[:, 0].max(), points[:, 1].max()]\n",
    "    x1, y1 = [t - padding for t in (x1, y1)]\n",
    "    x2, y2 = [t + padding for t in (x2, y2)]\n",
    "    box_height, box_width = y2 - y1 + 1, x2 - x1 + 1\n",
    "    assert box_height > 1 and box_width > 1\n",
    "    \n",
    "    if expand_ratio is not None:\n",
    "        box_height *= expand_ratio\n",
    "        box_width *= expand_ratio\n",
    "        x1, y1 = [math.floor(t - s) for t, s in zip((x1, y1), (box_width, box_height))]\n",
    "        x2, y2 = [math.ceil(t + s) for t, s in zip((x2, y2), (box_width, box_height))]\n",
    "    \n",
    "    image_height, image_width, _ = image_size\n",
    "    x1, y1 = [t if t >= 0 else 0 for t in (x1, y1)]\n",
    "    x2, y2 = [t if t < m else m for t, m in zip((x2, y2), (image_width, image_height))]\n",
    "    assert x1 <= x2 and y1 <= y2\n",
    "    \n",
    "    return x1, y1, x2, y2\n",
    "\n",
    "\n",
    "def extract(image: np.ndarray, box: Tuple[float, float, float, float]) -> np.ndarray:\n",
    "    x1, y1, x2, y2 = box\n",
    "    face = image[y1:y2+1, x1:x2+1, ...]\n",
    "    return face\n",
    "\n",
    "\n",
    "def offset_points(points: np.ndarray, box: Tuple[float, float, float, float]) -> np.ndarray:\n",
    "    x1, y1, x2, y2 = box\n",
    "    points = copy(points)\n",
    "    points[:, 0] -= x1\n",
    "    points[:, 1] -= y1\n",
    "    return points\n",
    "\n",
    "\n",
    "all_videos = sorted([p for p in base_path.iterdir() if p.is_dir()])\n",
    "assert len(all_videos) == n_videos\n",
    "for video_path in tqdm(all_videos, desc='video'):\n",
    "    all_frames_paths = sorted(list((video_path / 'extraction').glob('*.png')))\n",
    "    all_annotations_paths = sorted(list((video_path / 'annot').glob('*.pts')))\n",
    "    assert len(all_frames_paths) == len(all_annotations_paths)\n",
    "    is_first_frame = True\n",
    "    for frame_path, annotation_path in tqdm(list(zip(all_frames_paths, all_annotations_paths)), desc='frame', \n",
    "                                            leave=False):\n",
    "        assert frame_path.stem == annotation_path.stem\n",
    "        \n",
    "        image = mpimg.imread(str(frame_path))\n",
    "        image_points = load_pts_file(str(annotation_path))\n",
    "        image_box = points_to_box(image_points, image.shape)\n",
    "        face = extract(image, image_box)\n",
    "        face_points = offset_points(image_points, image_box)\n",
    "        \n",
    "        if is_first_frame:\n",
    "            is_first_frame = False\n",
    "            # plot(image)\n",
    "            # plot(image, image_points)\n",
    "            plot(image, image_points, image_box)\n",
    "            # plot(face)\n",
    "            plot(face, face_points)\n",
    "            break\n",
    "        \n",
    "    break"
   ]
  },
  {
   "cell_type": "code",
   "execution_count": null,
   "metadata": {
    "scrolled": false
   },
   "outputs": [],
   "source": []
  },
  {
   "cell_type": "code",
   "execution_count": null,
   "metadata": {
    "scrolled": false
   },
   "outputs": [],
   "source": []
  },
  {
   "cell_type": "code",
   "execution_count": null,
   "metadata": {},
   "outputs": [],
   "source": []
  },
  {
   "cell_type": "code",
   "execution_count": null,
   "metadata": {},
   "outputs": [],
   "source": []
  }
 ],
 "metadata": {
  "kernelspec": {
   "display_name": "Python 3",
   "language": "python",
   "name": "python3"
  },
  "language_info": {
   "codemirror_mode": {
    "name": "ipython",
    "version": 3
   },
   "file_extension": ".py",
   "mimetype": "text/x-python",
   "name": "python",
   "nbconvert_exporter": "python",
   "pygments_lexer": "ipython3",
   "version": "3.7.3"
  }
 },
 "nbformat": 4,
 "nbformat_minor": 2
}
