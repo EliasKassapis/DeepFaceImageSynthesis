{
 "cells": [
  {
   "cell_type": "code",
   "execution_count": null,
   "metadata": {},
   "outputs": [],
   "source": [
    "from IPython.core.display import display, HTML\n",
    "display(HTML(\"<style>.container { width:80% !important; }</style>\"))"
   ]
  },
  {
   "cell_type": "code",
   "execution_count": null,
   "metadata": {},
   "outputs": [],
   "source": [
    "from pathlib import Path\n",
    "from typing import Tuple\n",
    "\n",
    "import numpy as np\n",
    "from tqdm import tqdm_notebook as tqdm\n",
    "%pylab inline\n",
    "import matplotlib.pyplot as plt\n",
    "import matplotlib.image as mpimg\n",
    "from matplotlib import patches\n",
    "rcParams['figure.figsize'] = 10, 10"
   ]
  },
  {
   "cell_type": "code",
   "execution_count": null,
   "metadata": {},
   "outputs": [],
   "source": [
    "base_path = Path('/media/klaus/Ondrag/dev/datasets/300VW_Dataset_2015_12_14/')\n",
    "padding = 50\n",
    "expand_ratio = 0.0\n",
    "n_points = 68"
   ]
  },
  {
   "cell_type": "code",
   "execution_count": null,
   "metadata": {},
   "outputs": [],
   "source": [
    "def plot(image, points: np.ndarray = None, box: Tuple[int, int, int, int] = None) -> None:\n",
    "    plt.figure()\n",
    "    plt.imshow(image)\n",
    "    plt.axis('off')\n",
    "\n",
    "    if points is not None:\n",
    "        plt.plot(points[:, 0], points[:, 1], 'gx')\n",
    "    \n",
    "    if box is not None:\n",
    "        x1, y1, x2, y2 = box\n",
    "        rect = patches.Rectangle((x1, y1), x2 - x1, y2 - y1, \n",
    "                                 linewidth=1, edgecolor='r', facecolor='none')\n",
    "        ax = plt.gca()\n",
    "        ax.add_patch(rect)\n",
    "    \n",
    "    plt.show()    \n",
    "\n",
    "    \n",
    "\n",
    "def load_pts_file(file_path: Path) -> np.ndarray:\n",
    "    with open(str(file_path), 'r') as file:\n",
    "        lines = file.readlines()\n",
    "        \n",
    "    assert lines[0] == 'version: 1\\n'\n",
    "    assert lines[1] == f'n_points: {n_points}\\n'\n",
    "    \n",
    "    lines = [l.strip() for l in lines]\n",
    "    # remove\n",
    "    # version: 1\n",
    "    # n_points: 68\n",
    "    # {\n",
    "    lines = lines[3:]\n",
    "    # remove\n",
    "    # }\n",
    "    lines = lines[:-1]\n",
    "    points = [[float(x) for x in p.split()]\n",
    "              for p in lines]\n",
    "    points = np.asarray(points)\n",
    "    assert points.shape == (n_points, 2)\n",
    "    return points\n",
    "\n",
    "\n",
    "def points_to_box(points: np.ndarray) -> Tuple[int, int, int, int]:\n",
    "    x1, y1, x2, y2 = [points[:, 0].min(), points[:, 1].min(), points[:, 0].max(), points[:, 1].max()]\n",
    "    x1, y1 = [t - padding for t in (x1, y1)]\n",
    "    x2, y2 = [t + padding for t in (x2, y2)]\n",
    "    W, H = x2 - x1, y2 - y1\n",
    "    assert W > 0 and H > 0\n",
    "    \n",
    "    if expand_ratio is not None:\n",
    "        x1 = math.floor(x1 - W * expand_ratio)\n",
    "        y1 = math.floor(y1 - H * expand_ratio)\n",
    "        x2 = math.ceil(x2 + W * expand_ratio)\n",
    "        y2 = math.ceil(y2 + H * expand_ratio)\n",
    "    \n",
    "    x1, y1, x2, y2 = [int(t) for t in (x1, y1, x2, y2)]\n",
    "    return x1, y1, x2, y2"
   ]
  },
  {
   "cell_type": "code",
   "execution_count": null,
   "metadata": {
    "scrolled": true
   },
   "outputs": [],
   "source": [
    "all_videos = sorted([p for p in base_path.iterdir() if p.is_dir()])\n",
    "assert len(all_videos) == 114\n",
    "for video_path in tqdm(all_videos, desc='video'):\n",
    "    all_frames_paths = sorted(list((video_path / 'extraction').glob('*.png')))\n",
    "    all_annotations_paths = sorted(list((video_path / 'annot').glob('*.pts')))\n",
    "    assert len(all_frames_paths) == len(all_annotations_paths)\n",
    "    is_first_frame = True\n",
    "    for frame_path, annotation_path in tqdm(list(zip(all_frames_paths, all_annotations_paths)), desc='frame', \n",
    "                                            leave=False):\n",
    "        assert frame_path.stem == annotation_path.stem\n",
    "        \n",
    "        image = mpimg.imread(str(frame_path))\n",
    "        points = load_pts_file(str(annotation_path))\n",
    "        box = points_to_box(points)\n",
    "        # plot(image)\n",
    "        # plot(image, points)\n",
    "        if is_first_frame:\n",
    "            is_first_frame = False\n",
    "            plot(image, points, box)\n",
    "            break"
   ]
  },
  {
   "cell_type": "code",
   "execution_count": null,
   "metadata": {
    "scrolled": false
   },
   "outputs": [],
   "source": []
  },
  {
   "cell_type": "code",
   "execution_count": null,
   "metadata": {},
   "outputs": [],
   "source": []
  },
  {
   "cell_type": "code",
   "execution_count": null,
   "metadata": {},
   "outputs": [],
   "source": []
  }
 ],
 "metadata": {
  "kernelspec": {
   "display_name": "Python 3",
   "language": "python",
   "name": "python3"
  },
  "language_info": {
   "codemirror_mode": {
    "name": "ipython",
    "version": 3
   },
   "file_extension": ".py",
   "mimetype": "text/x-python",
   "name": "python",
   "nbconvert_exporter": "python",
   "pygments_lexer": "ipython3",
   "version": "3.7.3"
  }
 },
 "nbformat": 4,
 "nbformat_minor": 2
}
